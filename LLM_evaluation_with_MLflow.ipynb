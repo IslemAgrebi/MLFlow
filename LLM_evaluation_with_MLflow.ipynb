{
  "nbformat": 4,
  "nbformat_minor": 0,
  "metadata": {
    "colab": {
      "provenance": [],
      "authorship_tag": "ABX9TyM1TxR0n28EoU363b7q9zM1",
      "include_colab_link": true
    },
    "kernelspec": {
      "name": "python3",
      "display_name": "Python 3"
    },
    "language_info": {
      "name": "python"
    }
  },
  "cells": [
    {
      "cell_type": "markdown",
      "metadata": {
        "id": "view-in-github",
        "colab_type": "text"
      },
      "source": [
        "<a href=\"https://colab.research.google.com/github/IslemAgrebi/MLFlow/blob/main/LLM_evaluation_with_MLflow.ipynb\" target=\"_parent\"><img src=\"https://colab.research.google.com/assets/colab-badge.svg\" alt=\"Open In Colab\"/></a>"
      ]
    },
    {
      "cell_type": "markdown",
      "source": [
        "**`LLM Evaluation with MLflow Example `**"
      ],
      "metadata": {
        "id": "7Uks9IC5BREM"
      }
    },
    {
      "cell_type": "markdown",
      "source": [
        "In this notebook, we will demonstrate how to evaluate various LLMs and RAG systems with MLflow, leveraging simple metrics such as perplexity and toxicity, as well as LLM-judged metrics such as relevance, and even custom LLM-judged metrics such as professionalism"
      ],
      "metadata": {
        "id": "lBHZkWXCBaKN"
      }
    },
    {
      "cell_type": "markdown",
      "source": [
        "Set OpenAI Key"
      ],
      "metadata": {
        "id": "dPIr_xlmBu2_"
      }
    },
    {
      "cell_type": "code",
      "source": [
        "import os"
      ],
      "metadata": {
        "id": "3fvumMUDB1Np"
      },
      "execution_count": null,
      "outputs": []
    },
    {
      "cell_type": "code",
      "source": [
        "os.environ[\"OPENAI_API_KEY\"] = \"redacted\""
      ],
      "metadata": {
        "id": "r1jI3U9VBWNr"
      },
      "execution_count": null,
      "outputs": []
    },
    {
      "cell_type": "code",
      "source": [
        "import openai\n",
        "import pandas as pd\n",
        "import mlflow"
      ],
      "metadata": {
        "colab": {
          "base_uri": "https://localhost:8080/",
          "height": 349
        },
        "id": "RoRQaGXyB3kT",
        "outputId": "5c86e321-3962-42bd-9d76-b4d9d17479fb"
      },
      "execution_count": null,
      "outputs": [
        {
          "output_type": "error",
          "ename": "ModuleNotFoundError",
          "evalue": "No module named 'openai'",
          "traceback": [
            "\u001b[0;31m---------------------------------------------------------------------------\u001b[0m",
            "\u001b[0;31mModuleNotFoundError\u001b[0m                       Traceback (most recent call last)",
            "\u001b[0;32m<ipython-input-5-cea4308a9d96>\u001b[0m in \u001b[0;36m<cell line: 1>\u001b[0;34m()\u001b[0m\n\u001b[0;32m----> 1\u001b[0;31m \u001b[0;32mimport\u001b[0m \u001b[0mopenai\u001b[0m\u001b[0;34m\u001b[0m\u001b[0;34m\u001b[0m\u001b[0m\n\u001b[0m\u001b[1;32m      2\u001b[0m \u001b[0;32mimport\u001b[0m \u001b[0mpandas\u001b[0m \u001b[0;32mas\u001b[0m \u001b[0mpd\u001b[0m\u001b[0;34m\u001b[0m\u001b[0;34m\u001b[0m\u001b[0m\n\u001b[1;32m      3\u001b[0m \u001b[0;32mimport\u001b[0m \u001b[0mmlflow\u001b[0m\u001b[0;34m\u001b[0m\u001b[0;34m\u001b[0m\u001b[0m\n",
            "\u001b[0;31mModuleNotFoundError\u001b[0m: No module named 'openai'",
            "",
            "\u001b[0;31m---------------------------------------------------------------------------\u001b[0;32m\nNOTE: If your import is failing due to a missing package, you can\nmanually install dependencies using either !pip or !apt.\n\nTo view examples of installing some common dependencies, click the\n\"Open Examples\" button below.\n\u001b[0;31m---------------------------------------------------------------------------\u001b[0m\n"
          ],
          "errorDetails": {
            "actions": [
              {
                "action": "open_url",
                "actionText": "Open Examples",
                "url": "/notebooks/snippets/importing_libraries.ipynb"
              }
            ]
          }
        }
      ]
    },
    {
      "cell_type": "code",
      "source": [],
      "metadata": {
        "id": "9fUCS6WUCqqs"
      },
      "execution_count": null,
      "outputs": []
    },
    {
      "cell_type": "code",
      "source": [],
      "metadata": {
        "id": "7jdhM2FzCtRX"
      },
      "execution_count": null,
      "outputs": []
    },
    {
      "cell_type": "markdown",
      "source": [
        "Basic Question-Answering Evaluation\n",
        "\n",
        "Create a test case of inputs that will be passed into the model and ground_truth which will be used to compare against the generated output from the model."
      ],
      "metadata": {
        "id": "EX-JcSXbBklQ"
      }
    },
    {
      "cell_type": "code",
      "source": [
        "eval_df = pd.DataFrame(\n",
        "    {\n",
        "        \"inputs\": [\n",
        "            \"How does useEffect() work?\",\n",
        "            \"What does the static keyword in a function mean?\",\n",
        "            \"What does the 'finally' block in Python do?\",\n",
        "            \"What is the difference between multiprocessing and multithreading?\",\n",
        "        ],\n",
        "        \"ground_truth\": [\n",
        "            \"The useEffect() hook tells React that your component needs to do something after render. React will remember the function you passed (we’ll refer to it as our “effect”), and call it later after performing the DOM updates.\",\n",
        "            \"Static members belongs to the class, rather than a specific instance. This means that only one instance of a static member exists, even if you create multiple objects of the class, or if you don't create any. It will be shared by all objects.\",\n",
        "            \"'Finally' defines a block of code to run when the try... except...else block is final. The finally block will be executed no matter if the try block raises an error or not.\",\n",
        "            \"Multithreading refers to the ability of a processor to execute multiple threads concurrently, where each thread runs a process. Whereas multiprocessing refers to the ability of a system to run multiple processors in parallel, where each processor can run one or more threads.\",\n",
        "        ],\n",
        "    }\n",
        ")"
      ],
      "metadata": {
        "id": "m8dF5_m7Bmdl"
      },
      "execution_count": null,
      "outputs": []
    },
    {
      "cell_type": "markdown",
      "source": [
        "Create a simple OpenAI model that asks gpt-3.5 to answer the question in two sentences. Call mlflow.evaluate() with the model and evaluation dataframe."
      ],
      "metadata": {
        "id": "QdtT997LCB80"
      }
    },
    {
      "cell_type": "code",
      "source": [
        "with mlflow.start_run() as run:\n",
        "    system_prompt = \"Answer the following question in two sentences\"\n",
        "    basic_qa_model = mlflow.openai.log_model(\n",
        "        model=\"gpt-3.5-turbo\",\n",
        "        task=openai.ChatCompletion,\n",
        "        artifact_path=\"model\",\n",
        "        messages=[\n",
        "            {\"role\": \"system\", \"content\": system_prompt},\n",
        "            {\"role\": \"user\", \"content\": \"{question}\"},\n",
        "        ],\n",
        "    )\n",
        "    results = mlflow.evaluate(\n",
        "        basic_qa_model.model_uri,\n",
        "        eval_df,\n",
        "        targets=\"ground_truth\",  # specify which column corresponds to the expected output\n",
        "        model_type=\"question-answering\",  # model type indicates which metrics are relevant for this task\n",
        "        evaluators=\"default\",\n",
        "    )\n",
        "results.metrics"
      ],
      "metadata": {
        "id": "nt6inUibCDhZ"
      },
      "execution_count": null,
      "outputs": []
    },
    {
      "cell_type": "code",
      "source": [
        "results.tables[\"eval_results_table\"]\n"
      ],
      "metadata": {
        "id": "XmW-_ZZSCJHu"
      },
      "execution_count": null,
      "outputs": []
    },
    {
      "cell_type": "markdown",
      "source": [
        "LLM-judged correctness with OpenAI GPT-4\n",
        "Construct an answer similarity metric using the answer_similarity() metric factory function."
      ],
      "metadata": {
        "id": "DbNb-MbsCKV0"
      }
    },
    {
      "cell_type": "code",
      "source": [
        "from mlflow.metrics.genai import EvaluationExample, answer_similarity\n",
        "\n",
        "# Create an example to describe what answer_similarity means like for this problem.\n",
        "example = EvaluationExample(\n",
        "    input=\"What is MLflow?\",\n",
        "    output=\"MLflow is an open-source platform for managing machine \"\n",
        "    \"learning workflows, including experiment tracking, model packaging, \"\n",
        "    \"versioning, and deployment, simplifying the ML lifecycle.\",\n",
        "    score=4,\n",
        "    justification=\"The definition effectively explains what MLflow is \"\n",
        "    \"its purpose, and its developer. It could be more concise for a 5-score.\",\n",
        "    grading_context={\n",
        "        \"targets\": \"MLflow is an open-source platform for managing \"\n",
        "        \"the end-to-end machine learning (ML) lifecycle. It was developed by Databricks, \"\n",
        "        \"a company that specializes in big data and machine learning solutions. MLflow is \"\n",
        "        \"designed to address the challenges that data scientists and machine learning \"\n",
        "        \"engineers face when developing, training, and deploying machine learning models.\"\n",
        "    },\n",
        ")\n",
        "\n",
        "# Construct the metric using OpenAI GPT-4 as the judge\n",
        "answer_similarity_metric = answer_similarity(model=\"openai:/gpt-4\", examples=[example])\n",
        "\n",
        "print(answer_similarity_metric)\n"
      ],
      "metadata": {
        "colab": {
          "base_uri": "https://localhost:8080/",
          "height": 401
        },
        "id": "4cWsGhtBCL_K",
        "outputId": "08528037-2570-46bc-b655-7c831e5ce192"
      },
      "execution_count": null,
      "outputs": [
        {
          "output_type": "error",
          "ename": "ModuleNotFoundError",
          "evalue": "No module named 'mlflow'",
          "traceback": [
            "\u001b[0;31m---------------------------------------------------------------------------\u001b[0m",
            "\u001b[0;31mModuleNotFoundError\u001b[0m                       Traceback (most recent call last)",
            "\u001b[0;32m<ipython-input-4-f2b24c3265a1>\u001b[0m in \u001b[0;36m<cell line: 1>\u001b[0;34m()\u001b[0m\n\u001b[0;32m----> 1\u001b[0;31m \u001b[0;32mfrom\u001b[0m \u001b[0mmlflow\u001b[0m\u001b[0;34m.\u001b[0m\u001b[0mmetrics\u001b[0m\u001b[0;34m.\u001b[0m\u001b[0mgenai\u001b[0m \u001b[0;32mimport\u001b[0m \u001b[0mEvaluationExample\u001b[0m\u001b[0;34m,\u001b[0m \u001b[0manswer_similarity\u001b[0m\u001b[0;34m\u001b[0m\u001b[0;34m\u001b[0m\u001b[0m\n\u001b[0m\u001b[1;32m      2\u001b[0m \u001b[0;34m\u001b[0m\u001b[0m\n\u001b[1;32m      3\u001b[0m \u001b[0;31m# Create an example to describe what answer_similarity means like for this problem.\u001b[0m\u001b[0;34m\u001b[0m\u001b[0;34m\u001b[0m\u001b[0m\n\u001b[1;32m      4\u001b[0m example = EvaluationExample(\n\u001b[1;32m      5\u001b[0m     \u001b[0minput\u001b[0m\u001b[0;34m=\u001b[0m\u001b[0;34m\"What is MLflow?\"\u001b[0m\u001b[0;34m,\u001b[0m\u001b[0;34m\u001b[0m\u001b[0;34m\u001b[0m\u001b[0m\n",
            "\u001b[0;31mModuleNotFoundError\u001b[0m: No module named 'mlflow'",
            "",
            "\u001b[0;31m---------------------------------------------------------------------------\u001b[0;32m\nNOTE: If your import is failing due to a missing package, you can\nmanually install dependencies using either !pip or !apt.\n\nTo view examples of installing some common dependencies, click the\n\"Open Examples\" button below.\n\u001b[0;31m---------------------------------------------------------------------------\u001b[0m\n"
          ],
          "errorDetails": {
            "actions": [
              {
                "action": "open_url",
                "actionText": "Open Examples",
                "url": "/notebooks/snippets/importing_libraries.ipynb"
              }
            ]
          }
        }
      ]
    },
    {
      "cell_type": "code",
      "source": [
        "with mlflow.start_run() as run:\n",
        "    results = mlflow.evaluate(\n",
        "        basic_qa_model.model_uri,\n",
        "        eval_df,\n",
        "        targets=\"ground_truth\",\n",
        "        model_type=\"question-answering\",\n",
        "        evaluators=\"default\",\n",
        "        extra_metrics=[answer_similarity_metric],  # use the answer similarity metric created above\n",
        "    )\n",
        "results.metrics\n"
      ],
      "metadata": {
        "id": "HjFvN-74Cuke"
      },
      "execution_count": null,
      "outputs": []
    },
    {
      "cell_type": "markdown",
      "source": [
        "See the row-by-row LLM-judged answer similarity score and justifications\n",
        "\n"
      ],
      "metadata": {
        "id": "TqD-qGCECyHB"
      }
    },
    {
      "cell_type": "code",
      "source": [
        "results.tables[\"eval_results_table\"]\n"
      ],
      "metadata": {
        "id": "HaWaV8ePCy7s"
      },
      "execution_count": null,
      "outputs": []
    },
    {
      "cell_type": "markdown",
      "source": [
        "Custom LLM-judged metric for professionalism\n",
        "\n",
        "Create a custom metric that will be used to determine professionalism of the model outputs. Use make_genai_metric with a metric definition, grading prompt, grading example, and judge model configuration"
      ],
      "metadata": {
        "id": "RwlxwXEiC0Vq"
      }
    },
    {
      "cell_type": "code",
      "source": [
        "from mlflow.metrics.genai import EvaluationExample, make_genai_metric\n",
        "\n",
        "professionalism_metric = make_genai_metric(\n",
        "    name=\"professionalism\",\n",
        "    definition=(\n",
        "        \"Professionalism refers to the use of a formal, respectful, and appropriate style of communication that is tailored to the context and audience. It often involves avoiding overly casual language, slang, or colloquialisms, and instead using clear, concise, and respectful language\"\n",
        "    ),\n",
        "    grading_prompt=(\n",
        "        \"Professionalism: If the answer is written using a professional tone, below \"\n",
        "        \"are the details for different scores: \"\n",
        "        \"- Score 1: Language is extremely casual, informal, and may include slang or colloquialisms. Not suitable for professional contexts.\"\n",
        "        \"- Score 2: Language is casual but generally respectful and avoids strong informality or slang. Acceptable in some informal professional settings.\"\n",
        "        \"- Score 3: Language is balanced and avoids extreme informality or formality. Suitable for most professional contexts. \"\n",
        "        \"- Score 4: Language is noticeably formal, respectful, and avoids casual elements. Appropriate for business or academic settings. \"\n",
        "        \"- Score 5: Language is excessively formal, respectful, and avoids casual elements. Appropriate for the most formal settings such as textbooks. \"\n",
        "    ),\n",
        "    examples=[\n",
        "        EvaluationExample(\n",
        "            input=\"What is MLflow?\",\n",
        "            output=(\n",
        "                \"MLflow is like your friendly neighborhood toolkit for managing your machine learning projects. It helps you track experiments, package your code and models, and collaborate with your team, making the whole ML workflow smoother. It's like your Swiss Army knife for machine learning!\"\n",
        "            ),\n",
        "            score=2,\n",
        "            justification=(\n",
        "                \"The response is written in a casual tone. It uses contractions, filler words such as 'like', and exclamation points, which make it sound less professional. \"\n",
        "            ),\n",
        "        )\n",
        "    ],\n",
        "    version=\"v1\",\n",
        "    model=\"openai:/gpt-4\",\n",
        "    parameters={\"temperature\": 0.0},\n",
        "    grading_context_columns=[],\n",
        "    aggregations=[\"mean\", \"variance\", \"p90\"],\n",
        "    greater_is_better=True,\n",
        ")\n",
        "\n",
        "print(professionalism_metric)\n"
      ],
      "metadata": {
        "id": "nilveNlFC2YQ"
      },
      "execution_count": null,
      "outputs": []
    },
    {
      "cell_type": "markdown",
      "source": [
        "Call mlflow.evaluate with your new professionalism metric.\n",
        "\n"
      ],
      "metadata": {
        "id": "IsKuV8E5C7Hb"
      }
    },
    {
      "cell_type": "code",
      "source": [
        "with mlflow.start_run() as run:\n",
        "    results = mlflow.evaluate(\n",
        "        basic_qa_model.model_uri,\n",
        "        eval_df,\n",
        "        model_type=\"question-answering\",\n",
        "        evaluators=\"default\",\n",
        "        extra_metrics=[professionalism_metric],  # use the professionalism metric we created above\n",
        "    )\n",
        "print(results.metrics)\n"
      ],
      "metadata": {
        "id": "g_aohmdzC7oS"
      },
      "execution_count": null,
      "outputs": []
    },
    {
      "cell_type": "code",
      "source": [
        "results.tables[\"eval_results_table\"]\n"
      ],
      "metadata": {
        "id": "3njBgj3bC9Kn"
      },
      "execution_count": null,
      "outputs": []
    },
    {
      "cell_type": "markdown",
      "source": [
        "Lets see if we can improve basic_qa_model by creating a new model that could perform better by changing the system prompt.\n",
        "\n",
        "Call mlflow.evaluate() using the new model. Observe that the professionalism score has increased!"
      ],
      "metadata": {
        "id": "YQVyO16eC_Zn"
      }
    },
    {
      "cell_type": "code",
      "source": [
        "with mlflow.start_run() as run:\n",
        "    system_prompt = \"Answer the following question using extreme formality.\"\n",
        "    professional_qa_model = mlflow.openai.log_model(\n",
        "        model=\"gpt-3.5-turbo\",\n",
        "        task=openai.ChatCompletion,\n",
        "        artifact_path=\"model\",\n",
        "        messages=[\n",
        "            {\"role\": \"system\", \"content\": system_prompt},\n",
        "            {\"role\": \"user\", \"content\": \"{question}\"},\n",
        "        ],\n",
        "    )\n",
        "    results = mlflow.evaluate(\n",
        "        professional_qa_model.model_uri,\n",
        "        eval_df,\n",
        "        model_type=\"question-answering\",\n",
        "        evaluators=\"default\",\n",
        "        extra_metrics=[professionalism_metric],\n",
        "    )\n",
        "print(results.metrics)\n"
      ],
      "metadata": {
        "id": "IfhpSRvWDAJM"
      },
      "execution_count": null,
      "outputs": []
    },
    {
      "cell_type": "code",
      "source": [
        "results.tables[\"eval_results_table\"]\n"
      ],
      "metadata": {
        "id": "vxQkcqHJDBcQ"
      },
      "execution_count": null,
      "outputs": []
    }
  ]
}